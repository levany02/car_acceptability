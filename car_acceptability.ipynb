{
 "cells": [
  {
   "cell_type": "code",
   "execution_count": 199,
   "id": "harmful-mistake",
   "metadata": {},
   "outputs": [],
   "source": [
    "import pandas as  pd\n",
    "import numpy as np\n",
    "import tensorflow as tf\n",
    "from IPython.display import clear_output"
   ]
  },
  {
   "cell_type": "code",
   "execution_count": 4,
   "id": "aggressive-father",
   "metadata": {},
   "outputs": [],
   "source": [
    "df = pd.read_csv('data/car_acceptability/car_evaluation.csv', delimiter=\",\", names=[\"price\", \"maintenance\", \"num_door\", \"num_person\", \"lug_boot\", \"safety\", \"decision\"])"
   ]
  },
  {
   "cell_type": "code",
   "execution_count": 48,
   "id": "quality-homework",
   "metadata": {},
   "outputs": [
    {
     "data": {
      "text/html": [
       "<div>\n",
       "<style scoped>\n",
       "    .dataframe tbody tr th:only-of-type {\n",
       "        vertical-align: middle;\n",
       "    }\n",
       "\n",
       "    .dataframe tbody tr th {\n",
       "        vertical-align: top;\n",
       "    }\n",
       "\n",
       "    .dataframe thead th {\n",
       "        text-align: right;\n",
       "    }\n",
       "</style>\n",
       "<table border=\"1\" class=\"dataframe\">\n",
       "  <thead>\n",
       "    <tr style=\"text-align: right;\">\n",
       "      <th></th>\n",
       "      <th>price</th>\n",
       "      <th>maintenance</th>\n",
       "      <th>num_door</th>\n",
       "      <th>num_person</th>\n",
       "      <th>lug_boot</th>\n",
       "      <th>safety</th>\n",
       "      <th>decision</th>\n",
       "    </tr>\n",
       "  </thead>\n",
       "  <tbody>\n",
       "    <tr>\n",
       "      <th>0</th>\n",
       "      <td>vhigh</td>\n",
       "      <td>vhigh</td>\n",
       "      <td>2</td>\n",
       "      <td>2</td>\n",
       "      <td>small</td>\n",
       "      <td>low</td>\n",
       "      <td>unacc</td>\n",
       "    </tr>\n",
       "    <tr>\n",
       "      <th>1</th>\n",
       "      <td>vhigh</td>\n",
       "      <td>vhigh</td>\n",
       "      <td>2</td>\n",
       "      <td>2</td>\n",
       "      <td>small</td>\n",
       "      <td>med</td>\n",
       "      <td>unacc</td>\n",
       "    </tr>\n",
       "    <tr>\n",
       "      <th>2</th>\n",
       "      <td>vhigh</td>\n",
       "      <td>vhigh</td>\n",
       "      <td>2</td>\n",
       "      <td>2</td>\n",
       "      <td>small</td>\n",
       "      <td>high</td>\n",
       "      <td>unacc</td>\n",
       "    </tr>\n",
       "    <tr>\n",
       "      <th>3</th>\n",
       "      <td>vhigh</td>\n",
       "      <td>vhigh</td>\n",
       "      <td>2</td>\n",
       "      <td>2</td>\n",
       "      <td>med</td>\n",
       "      <td>low</td>\n",
       "      <td>unacc</td>\n",
       "    </tr>\n",
       "    <tr>\n",
       "      <th>4</th>\n",
       "      <td>vhigh</td>\n",
       "      <td>vhigh</td>\n",
       "      <td>2</td>\n",
       "      <td>2</td>\n",
       "      <td>med</td>\n",
       "      <td>med</td>\n",
       "      <td>unacc</td>\n",
       "    </tr>\n",
       "  </tbody>\n",
       "</table>\n",
       "</div>"
      ],
      "text/plain": [
       "   price maintenance num_door num_person lug_boot safety decision\n",
       "0  vhigh       vhigh        2          2    small    low    unacc\n",
       "1  vhigh       vhigh        2          2    small    med    unacc\n",
       "2  vhigh       vhigh        2          2    small   high    unacc\n",
       "3  vhigh       vhigh        2          2      med    low    unacc\n",
       "4  vhigh       vhigh        2          2      med    med    unacc"
      ]
     },
     "execution_count": 48,
     "metadata": {},
     "output_type": "execute_result"
    }
   ],
   "source": [
    "df.head()"
   ]
  },
  {
   "cell_type": "code",
   "execution_count": 132,
   "id": "purple-essence",
   "metadata": {},
   "outputs": [
    {
     "data": {
      "image/png": "[encoded data removed]",
      "text/plain": [
       "<Figure size 504x504 with 1 Axes>"
      ]
     },
     "metadata": {},
     "output_type": "display_data"
    }
   ],
   "source": [
    "import matplotlib.pyplot as plt\n",
    "import seaborn as sns\n",
    "decision_des = df[\"decision\"].value_counts()\n",
    "fig1, ax1 = plt.subplots(figsize=(7,7))\n",
    "ax1.pie(decision_des.values, labels=decision_des.index, autopct='%1.1f%%', wedgeprops=dict(width=0.5), startangle=-40)\n",
    "ax1.axis('equal')  # Equal aspect ratio ensures that pie is drawn as a circle.\n",
    "plt.show()\n",
    "# ax1.pie?"
   ]
  },
  {
   "cell_type": "code",
   "execution_count": 154,
   "id": "orange-simpson",
   "metadata": {},
   "outputs": [
    {
     "data": {
      "text/plain": [
       "unacc    1210\n",
       "acc       384\n",
       "good       69\n",
       "vgood      65\n",
       "Name: decision, dtype: int64"
      ]
     },
     "execution_count": 154,
     "metadata": {},
     "output_type": "execute_result"
    }
   ],
   "source": [
    "decision_des"
   ]
  },
  {
   "cell_type": "code",
   "execution_count": 170,
   "id": "returning-reduction",
   "metadata": {},
   "outputs": [
    {
     "data": {
      "text/plain": [
       "<function matplotlib.pyplot.show(close=None, block=None)>"
      ]
     },
     "execution_count": 170,
     "metadata": {},
     "output_type": "execute_result"
    },
    {
     "data": {
      "image/png": "[encoded data removed]",
      "text/plain": [
       "<Figure size 1728x288 with 6 Axes>"
      ]
     },
     "metadata": {
      "needs_background": "light"
     },
     "output_type": "display_data"
    }
   ],
   "source": [
    "fig2, (ax1, ax2, ax3, ax4, ax5, ax6) = plt.subplots(1, 6, figsize=(24, 4))\n",
    "df.price.value_counts().plot(kind='barh', ax= ax1)\n",
    "df.maintenance.value_counts().plot(kind='barh', ax= ax2)\n",
    "df.num_door.value_counts().plot(kind='barh', ax= ax3)\n",
    "df.num_person.value_counts().plot(kind='barh', ax= ax4)\n",
    "df.lug_boot.value_counts().plot(kind='barh', ax= ax5)\n",
    "df.safety.value_counts().plot(kind='barh', ax= ax6)\n",
    "\n",
    "plt.show"
   ]
  },
  {
   "cell_type": "code",
   "execution_count": null,
   "id": "racial-craft",
   "metadata": {},
   "outputs": [],
   "source": []
  },
  {
   "cell_type": "code",
   "execution_count": 115,
   "id": "quarterly-unknown",
   "metadata": {},
   "outputs": [
    {
     "data": {
      "text/html": [
       "<div>\n",
       "<style scoped>\n",
       "    .dataframe tbody tr th:only-of-type {\n",
       "        vertical-align: middle;\n",
       "    }\n",
       "\n",
       "    .dataframe tbody tr th {\n",
       "        vertical-align: top;\n",
       "    }\n",
       "\n",
       "    .dataframe thead th {\n",
       "        text-align: right;\n",
       "    }\n",
       "</style>\n",
       "<table border=\"1\" class=\"dataframe\">\n",
       "  <thead>\n",
       "    <tr style=\"text-align: right;\">\n",
       "      <th>price</th>\n",
       "      <th>high</th>\n",
       "      <th>low</th>\n",
       "      <th>med</th>\n",
       "      <th>vhigh</th>\n",
       "    </tr>\n",
       "    <tr>\n",
       "      <th>decision</th>\n",
       "      <th></th>\n",
       "      <th></th>\n",
       "      <th></th>\n",
       "      <th></th>\n",
       "    </tr>\n",
       "  </thead>\n",
       "  <tbody>\n",
       "    <tr>\n",
       "      <th>acc</th>\n",
       "      <td>108</td>\n",
       "      <td>89</td>\n",
       "      <td>115</td>\n",
       "      <td>72</td>\n",
       "    </tr>\n",
       "    <tr>\n",
       "      <th>good</th>\n",
       "      <td>0</td>\n",
       "      <td>46</td>\n",
       "      <td>23</td>\n",
       "      <td>0</td>\n",
       "    </tr>\n",
       "    <tr>\n",
       "      <th>unacc</th>\n",
       "      <td>324</td>\n",
       "      <td>258</td>\n",
       "      <td>268</td>\n",
       "      <td>360</td>\n",
       "    </tr>\n",
       "    <tr>\n",
       "      <th>vgood</th>\n",
       "      <td>0</td>\n",
       "      <td>39</td>\n",
       "      <td>26</td>\n",
       "      <td>0</td>\n",
       "    </tr>\n",
       "  </tbody>\n",
       "</table>\n",
       "</div>"
      ],
      "text/plain": [
       "price     high  low  med  vhigh\n",
       "decision                       \n",
       "acc        108   89  115     72\n",
       "good         0   46   23      0\n",
       "unacc      324  258  268    360\n",
       "vgood        0   39   26      0"
      ]
     },
     "execution_count": 115,
     "metadata": {},
     "output_type": "execute_result"
    }
   ],
   "source": [
    "df_price = pd.crosstab(df[\"decision\"], df[\"price\"])\n",
    "df_door = pd.crosstab(df[\"decision\"], df[\"num_door\"])\n",
    "df_maintenance = pd.crosstab(df[\"decision\"], df[\"maintenance\"])\n",
    "df_num_person = pd.crosstab(df[\"decision\"], df[\"num_person\"])\n",
    "df_lug_boot = pd.crosstab(df[\"decision\"], df[\"lug_boot\"])\n",
    "df_safety = pd.crosstab(df[\"decision\"], df[\"safety\"])\n",
    "df_price"
   ]
  },
  {
   "cell_type": "code",
   "execution_count": 122,
   "id": "conscious-services",
   "metadata": {},
   "outputs": [
    {
     "data": {
      "text/plain": [
       "<function matplotlib.pyplot.show(close=None, block=None)>"
      ]
     },
     "execution_count": 122,
     "metadata": {},
     "output_type": "execute_result"
    },
    {
     "data": {
      "image/png": "[encoded data removed]",
      "text/plain": [
       "<Figure size 2016x360 with 6 Axes>"
      ]
     },
     "metadata": {
      "needs_background": "light"
     },
     "output_type": "display_data"
    }
   ],
   "source": [
    "fig, (ax1, ax2, ax3, ax4, ax5, ax6) = plt.subplots(1, 6, figsize=(28, 5), sharey='all')\n",
    "sns.heatmap(ax=ax1, data= df_price, cmap=\"YlGnBu\", cbar=False)\n",
    "sns.heatmap(ax=ax2, data= df_door, cmap=\"YlGnBu\", cbar=False)\n",
    "sns.heatmap(ax=ax3, data= df_lug_boot, cmap=\"YlGnBu\", cbar=False)\n",
    "sns.heatmap(ax=ax4, data= df_maintenance, cmap=\"YlGnBu\", cbar=False)\n",
    "sns.heatmap(ax=ax5, data= df_num_person, cmap=\"YlGnBu\", cbar=False)\n",
    "sns.heatmap(ax=ax6, data= df_safety, cmap=\"YlGnBu\", cbar=False)\n",
    "plt.show"
   ]
  },
  {
   "cell_type": "code",
   "execution_count": 195,
   "id": "white-russell",
   "metadata": {},
   "outputs": [],
   "source": [
    "df_tf = df.copy()\n",
    "test = df_tf.sample(200)\n",
    "train = df_tf[~df_tf.index.isin(test.index.tolist())]\n",
    "train_label = train.pop('decision')\n",
    "test_label = test.pop('decision')\n",
    "train_label = np.where(train_label=='unacc', 0, 1)\n",
    "test_label = np.where(test_label=='unacc', 0, 1)\n",
    "\n",
    "def one_hot_cat_column(feature_name, vocab):\n",
    "    return tf.feature_column.indicator_column(tf.feature_column.categorical_column_with_vocabulary_list(feature_name,\n",
    "                                                 vocab))\n",
    "df_tf.pop('decision')\n",
    "feature_columns = []\n",
    "for feature_name in df_tf.columns.tolist():\n",
    "    vocabulary = df_tf[feature_name].unique()\n",
    "    feature_columns.append(one_hot_cat_column(feature_name, vocabulary))"
   ]
  },
  {
   "cell_type": "code",
   "execution_count": 196,
   "id": "catholic-transcription",
   "metadata": {},
   "outputs": [
    {
     "data": {
      "text/plain": [
       "array([[1., 0., 0., 1., 0., 0., 0., 1., 0., 0., 0., 1., 0., 0., 1., 0.,\n",
       "        0., 0., 1., 0., 0.]], dtype=float32)"
      ]
     },
     "execution_count": 196,
     "metadata": {},
     "output_type": "execute_result"
    }
   ],
   "source": [
    "example = dict(train.head(1))\n",
    "tf.keras.layers.DenseFeatures(feature_columns)(example).numpy()"
   ]
  },
  {
   "cell_type": "code",
   "execution_count": 197,
   "id": "dominant-norwegian",
   "metadata": {},
   "outputs": [],
   "source": [
    "NUM_EXAMPLES = len(label)\n",
    "\n",
    "def make_input_fn(X, y, n_epochs=None, shuffle=True):\n",
    "    def input_fn():\n",
    "        dataset = tf.data.Dataset.from_tensor_slices((dict(X), y))\n",
    "        if shuffle:\n",
    "            dataset = dataset.shuffle(NUM_EXAMPLES)\n",
    "        # For training, cycle thru dataset as many times as need (n_epochs=None).\n",
    "        dataset = dataset.repeat(n_epochs)\n",
    "        # In memory training doesn't use batching.\n",
    "        dataset = dataset.batch(NUM_EXAMPLES)\n",
    "        return dataset\n",
    "    return input_fn\n",
    "\n",
    "# Training and evaluation input functions.\n",
    "train_input_fn = make_input_fn(train, train_label)\n",
    "eval_input_fn = make_input_fn(test, test_label, shuffle=False, n_epochs=1)"
   ]
  },
  {
   "cell_type": "code",
   "execution_count": 200,
   "id": "sweet-tobacco",
   "metadata": {},
   "outputs": [
    {
     "name": "stdout",
     "output_type": "stream",
     "text": [
      "accuracy                  0.940000\n",
      "accuracy_baseline         0.705000\n",
      "auc                       0.992908\n",
      "auc_precision_recall      0.982409\n",
      "average_loss              0.256991\n",
      "label/mean                0.295000\n",
      "loss                      0.256991\n",
      "precision                 0.960784\n",
      "prediction/mean           0.300763\n",
      "recall                    0.830508\n",
      "global_step             100.000000\n",
      "dtype: float64\n"
     ]
    }
   ],
   "source": [
    "linear_est = tf.estimator.LinearClassifier(feature_columns)\n",
    "\n",
    "# Train model.\n",
    "linear_est.train(train_input_fn, max_steps=100)\n",
    "\n",
    "# Evaluation.\n",
    "result = linear_est.evaluate(eval_input_fn)\n",
    "clear_output()\n",
    "print(pd.Series(result))"
   ]
  },
  {
   "cell_type": "code",
   "execution_count": 201,
   "id": "strange-tobacco",
   "metadata": {},
   "outputs": [
    {
     "name": "stdout",
     "output_type": "stream",
     "text": [
      "accuracy                  0.990000\n",
      "accuracy_baseline         0.705000\n",
      "auc                       0.999760\n",
      "auc_precision_recall      0.999440\n",
      "average_loss              0.043809\n",
      "label/mean                0.295000\n",
      "loss                      0.043809\n",
      "precision                 0.967213\n",
      "prediction/mean           0.292980\n",
      "recall                    1.000000\n",
      "global_step             100.000000\n",
      "dtype: float64\n"
     ]
    }
   ],
   "source": [
    "# Since data fits into memory, use entire dataset per layer. It will be faster.\n",
    "# Above one batch is defined as the entire dataset.\n",
    "n_batches = 1\n",
    "est = tf.estimator.BoostedTreesClassifier(feature_columns,\n",
    "                                          n_batches_per_layer=n_batches)\n",
    "\n",
    "# The model will stop training once the specified number of trees is built, not\n",
    "# based on the number of steps.\n",
    "est.train(train_input_fn, max_steps=100)\n",
    "\n",
    "# Eval.\n",
    "result = est.evaluate(eval_input_fn)\n",
    "clear_output()\n",
    "print(pd.Series(result))"
   ]
  },
  {
   "cell_type": "code",
   "execution_count": 202,
   "id": "broke-bedroom",
   "metadata": {},
   "outputs": [
    {
     "name": "stdout",
     "output_type": "stream",
     "text": [
      "INFO:tensorflow:Calling model_fn.\n",
      "INFO:tensorflow:Done calling model_fn.\n",
      "INFO:tensorflow:Graph was finalized.\n",
      "INFO:tensorflow:Restoring parameters from C:\\Users\\ASUS\\AppData\\Local\\Temp\\tmp0cizkcbq\\model.ckpt-100\n",
      "INFO:tensorflow:Running local_init_op.\n",
      "INFO:tensorflow:Done running local_init_op.\n"
     ]
    },
    {
     "data": {
      "image/png": "[encoded data removed]",
      "text/plain": [
       "<Figure size 432x288 with 1 Axes>"
      ]
     },
     "metadata": {
      "needs_background": "light"
     },
     "output_type": "display_data"
    }
   ],
   "source": [
    "pred_dicts = list(est.predict(eval_input_fn))\n",
    "probs = pd.Series([pred['probabilities'][1] for pred in pred_dicts])\n",
    "\n",
    "probs.plot(kind='hist', bins=20, title='predicted probabilities')\n",
    "plt.show()"
   ]
  },
  {
   "cell_type": "code",
   "execution_count": 204,
   "id": "noticed-exercise",
   "metadata": {},
   "outputs": [
    {
     "data": {
      "image/png": "[encoded data removed]",
      "text/plain": [
       "<Figure size 432x288 with 1 Axes>"
      ]
     },
     "metadata": {
      "needs_background": "light"
     },
     "output_type": "display_data"
    }
   ],
   "source": [
    "from sklearn.metrics import roc_curve\n",
    "\n",
    "fpr, tpr, _ = roc_curve(test_label, probs)\n",
    "plt.plot(fpr, tpr)\n",
    "plt.title('ROC curve')\n",
    "plt.xlabel('false positive rate')\n",
    "plt.ylabel('true positive rate')\n",
    "plt.xlim(0,)\n",
    "plt.ylim(0,)\n",
    "plt.show()"
   ]
  },
  {
   "cell_type": "markdown",
   "id": "improved-enforcement",
   "metadata": {},
   "source": [
    "### Case 2    "
   ]
  },
  {
   "cell_type": "code",
   "execution_count": 216,
   "id": "fundamental-nightmare",
   "metadata": {},
   "outputs": [],
   "source": [
    "df_tf2 = df.copy()\n",
    "classes_2 = df_tf2[\"decision\"].unique().tolist()\n",
    "test2 = df_tf2.sample(200)\n",
    "train2 = df_tf2[~df_tf2.index.isin(test2.index.tolist())]\n",
    "train_label2 = train2.pop('decision')\n",
    "train_label2 = train_label2.map(classes_2.index)\n",
    "test_label2 = test2.pop('decision')\n",
    "test_label2 = test_label2.map(classes_2.index)\n",
    "\n",
    "def one_hot_cat_column(feature_name, vocab):\n",
    "    return tf.feature_column.indicator_column(tf.feature_column.categorical_column_with_vocabulary_list(feature_name,\n",
    "                                                 vocab))\n",
    "df_tf2.pop('decision')\n",
    "feature_columns_2 = []\n",
    "for feature_name in df_tf2.columns.tolist():\n",
    "    vocabulary = df_tf2[feature_name].unique()\n",
    "    feature_columns_2.append(one_hot_cat_column(feature_name, vocabulary))"
   ]
  },
  {
   "cell_type": "code",
   "execution_count": 217,
   "id": "adequate-thickness",
   "metadata": {},
   "outputs": [],
   "source": [
    "# Training and evaluation input functions.\n",
    "train_input_fn_2 = make_input_fn(train2, train_label2)\n",
    "eval_input_fn_2 = make_input_fn(test2, test_label2, shuffle=False, n_epochs=1)"
   ]
  },
  {
   "cell_type": "code",
   "execution_count": 219,
   "id": "lyric-reduction",
   "metadata": {},
   "outputs": [
    {
     "name": "stdout",
     "output_type": "stream",
     "text": [
      "accuracy          0.825000\n",
      "average_loss      0.437568\n",
      "loss              0.437568\n",
      "global_step     100.000000\n",
      "dtype: float64\n"
     ]
    }
   ],
   "source": [
    "linear_est_2 = tf.estimator.LinearClassifier(feature_columns_2, n_classes=len(classes_2))\n",
    "\n",
    "# Train model.\n",
    "linear_est_2.train(train_input_fn_2, max_steps=100)\n",
    "\n",
    "# Evaluation.\n",
    "result2 = linear_est_2.evaluate(eval_input_fn_2)\n",
    "clear_output()\n",
    "print(pd.Series(result2))"
   ]
  },
  {
   "cell_type": "code",
   "execution_count": 222,
   "id": "radical-block",
   "metadata": {},
   "outputs": [
    {
     "name": "stdout",
     "output_type": "stream",
     "text": [
      "accuracy          0.995000\n",
      "average_loss      0.073219\n",
      "loss              0.073219\n",
      "global_step     100.000000\n",
      "dtype: float64\n"
     ]
    }
   ],
   "source": [
    "# Since data fits into memory, use entire dataset per layer. It will be faster.\n",
    "# Above one batch is defined as the entire dataset.\n",
    "n_batches = 1\n",
    "est2 = tf.estimator.BoostedTreesClassifier(feature_columns, n_batches_per_layer=n_batches,\n",
    "                                           n_classes=len(classes_2))\n",
    "\n",
    "# The model will stop training once the specified number of trees is built, not\n",
    "# based on the number of steps.\n",
    "est2.train(train_input_fn_2, max_steps=100)\n",
    "\n",
    "# Eval.\n",
    "result2 = est2.evaluate(eval_input_fn_2)\n",
    "clear_output()\n",
    "print(pd.Series(result2))"
   ]
  },
  {
   "cell_type": "code",
   "execution_count": 266,
   "id": "tribal-guest",
   "metadata": {},
   "outputs": [
    {
     "name": "stdout",
     "output_type": "stream",
     "text": [
      "INFO:tensorflow:Calling model_fn.\n",
      "INFO:tensorflow:Done calling model_fn.\n",
      "INFO:tensorflow:Graph was finalized.\n",
      "INFO:tensorflow:Restoring parameters from C:\\Users\\ASUS\\AppData\\Local\\Temp\\tmpwiq141rf\\model.ckpt-100\n",
      "INFO:tensorflow:Running local_init_op.\n",
      "INFO:tensorflow:Done running local_init_op.\n",
      "{'logits': array([ 1.3447002,  4.4075346, -2.9973981, -1.6854258], dtype=float32), 'probabilities': array([4.4544607e-02, 9.5272410e-01, 5.7948957e-04, 2.1519298e-03],\n",
      "      dtype=float32), 'class_ids': array([1], dtype=int64), 'classes': array([b'1'], dtype=object), 'all_class_ids': array([0, 1, 2, 3]), 'all_classes': array([b'0', b'1', b'2', b'3'], dtype=object)}\n"
     ]
    }
   ],
   "source": [
    "def input_fn(features, batch_size=256):\n",
    "    \"\"\"An input function for prediction.\"\"\"\n",
    "    # Convert the inputs to a Dataset without labels.\n",
    "    return tf.data.Dataset.from_tensor_slices(dict(features)).batch(batch_size)\n",
    "\n",
    "preds = est2.predict(eval_input_fn_2)\n",
    "for i in preds:\n",
    "    print(i)\n",
    "    break"
   ]
  },
  {
   "cell_type": "code",
   "execution_count": null,
   "id": "boring-bunny",
   "metadata": {},
   "outputs": [],
   "source": []
  }
 ],
 "metadata": {
  "kernelspec": {
   "display_name": "Python 3",
   "language": "python",
   "name": "python3"
  },
  "language_info": {
   "codemirror_mode": {
    "name": "ipython",
    "version": 3
   },
   "file_extension": ".py",
   "mimetype": "text/x-python",
   "name": "python",
   "nbconvert_exporter": "python",
   "pygments_lexer": "ipython3",
   "version": "3.8.5"
  }
 },
 "nbformat": 4,
 "nbformat_minor": 5
}
